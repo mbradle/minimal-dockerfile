{
 "cells": [
  {
   "cell_type": "markdown",
   "metadata": {},
   "source": [
    "Test running the code in Binder."
   ]
  },
  {
   "cell_type": "markdown",
   "metadata": {},
   "source": [
    "First download and compile the code."
   ]
  },
  {
   "cell_type": "code",
   "execution_count": 1,
   "metadata": {},
   "outputs": [
    {
     "name": "stdout",
     "output_type": "stream",
     "text": [
      "wget http://sourceforge.net/projects//wnmatrix/files/wn_matrix/wn_matrix_0.19.tar.gz -O ../wn_user/build/vendor/wn_matrix.tar.gz\n",
      "tar xz -C ../wn_user/build/vendor -f ../wn_user/build/vendor/wn_matrix.tar.gz\n",
      "g++ -Werror -Wall -Wpointer-arith -Wwrite-strings -fno-common -g  -Wno-error=unused-local-typedef -O0 -fopenmp -Wno-deprecated -I ./ -I ../wn_user -DSPARSKIT2 `xml2-config --cflags` `gsl-config --cflags` -I../wn_user/build/vendor/libnucnet/0.41/src -I../wn_user/build/vendor/wn_matrix/0.19/src -I../wn_user/build/vendor/libstatmech/0.10/src -I../wn_user/build/vendor/libnuceq/0.7/src -I../nucnet-tools-code  -I ../wn_user/build/vendor/wn_sparse_solve/0.7/src -c ../wn_user/build/vendor/wn_matrix/0.19/src/WnMatrix.c -o ../wn_user/build/obj/WnMatrix.o\n",
      "rm -fr ../wn_user/build/obj\n",
      "rm ../nucnet-tools-code/nnt/string_defs.h\n",
      "rm -f ../wn_user/build/vendor/SPARSKIT2/BLASSM/blassm.o ../wn_user/build/vendor/SPARSKIT2/BLASSM/matvec.o ../wn_user/build/vendor/SPARSKIT2/FORMATS/formats.o ../wn_user/build/vendor/SPARSKIT2/FORMATS/unary.o ../wn_user/build/vendor/SPARSKIT2/INFO/infofun.o ../wn_user/build/vendor/SPARSKIT2/INOUT/inout.o ../wn_user/build/vendor/SPARSKIT2/ITSOL/ilut.o ../wn_user/build/vendor/SPARSKIT2/ITSOL/iters.o ../wn_user/build/vendor/SPARSKIT2/MATGEN/FDIF/genmat.o ../wn_user/build/vendor/SPARSKIT2/MATGEN/FEM/elmtlib2.o ../wn_user/build/vendor/SPARSKIT2/MATGEN/FEM/femgen.o ../wn_user/build/vendor/SPARSKIT2/MATGEN/FEM/meshes.o ../wn_user/build/vendor/SPARSKIT2/MATGEN/MISC/sobel.o ../wn_user/build/vendor/SPARSKIT2/MATGEN/MISC/zlatev.o ../wn_user/build/vendor/SPARSKIT2/ORDERINGS/ccn.o ../wn_user/build/vendor/SPARSKIT2/ORDERINGS/color.o ../wn_user/build/vendor/SPARSKIT2/ORDERINGS/dsepart.o\n",
      "rm -f ../wn_user/build/vendor/SPARSKIT2/libskit.a\n",
      "tar xz -C ../wn_user/build/vendor -f ../wn_user/build/vendor/wn_matrix.tar.gz\n",
      "g++ -Werror -Wall -Wpointer-arith -Wwrite-strings -fno-common -g  -Wno-error=unused-local-typedef -O0 -fopenmp -Wno-deprecated -I ./ -I ../wn_user -DSPARSKIT2 `xml2-config --cflags` `gsl-config --cflags` -I../wn_user/build/vendor/libnucnet/0.41/src -I../wn_user/build/vendor/wn_matrix/0.19/src -I../wn_user/build/vendor/libstatmech/0.10/src -I../wn_user/build/vendor/libnuceq/0.7/src -I../nucnet-tools-code  -I ../wn_user/build/vendor/wn_sparse_solve/0.7/src -c ../wn_user/build/vendor/wn_matrix/0.19/src/WnMatrix.c -o ../wn_user/build/obj/WnMatrix.o\n",
      "rm -fr ../wn_user/build/obj\n",
      "rm ../nucnet-tools-code/nnt/string_defs.h\n",
      "rm -fr ../wn_user/build/vendor\n",
      "wget http://sourceforge.net/projects//wnmatrix/files/wn_matrix/wn_matrix_0.19.tar.gz -O ../wn_user/build/vendor/wn_matrix.tar.gz\n",
      "tar xz -C ../wn_user/build/vendor -f ../wn_user/build/vendor/wn_matrix.tar.gz\n",
      "g++ -Werror -Wall -Wpointer-arith -Wwrite-strings -fno-common -g  -Wno-error=unused-local-typedef -O0 -fopenmp -Wno-deprecated -I ./ -I ../wn_user -DSPARSKIT2 `xml2-config --cflags` `gsl-config --cflags` -I../wn_user/build/vendor/libnucnet/0.41/src -I../wn_user/build/vendor/wn_matrix/0.19/src -I../wn_user/build/vendor/libstatmech/0.10/src -I../wn_user/build/vendor/libnuceq/0.7/src -I../nucnet-tools-code  -I ../wn_user/build/vendor/wn_sparse_solve/0.7/src -c ../wn_user/build/vendor/wn_matrix/0.19/src/WnMatrix.c -o ../wn_user/build/obj/WnMatrix.o\n",
      "Make failed. Contact project maintainer.\n"
     ]
    },
    {
     "name": "stderr",
     "output_type": "stream",
     "text": [
      "Cloning into 'wn_user'...\n",
      "Cloning into 'single_zone'...\n",
      "URL transformed to HTTPS due to an HSTS policy\n",
      "--2022-01-21 15:37:24--  https://sourceforge.net/projects//wnmatrix/files/wn_matrix/wn_matrix_0.19.tar.gz\n",
      "Resolving sourceforge.net (sourceforge.net)... 204.68.111.105\n",
      "Connecting to sourceforge.net (sourceforge.net)|204.68.111.105|:443... connected.\n",
      "HTTP request sent, awaiting response... 301 Moved Permanently\n",
      "Location: https://sourceforge.net/projects/wnmatrix/files/wn_matrix/wn_matrix_0.19.tar.gz/ [following]\n",
      "--2022-01-21 15:37:24--  https://sourceforge.net/projects/wnmatrix/files/wn_matrix/wn_matrix_0.19.tar.gz/\n",
      "Reusing existing connection to sourceforge.net:443.\n",
      "HTTP request sent, awaiting response... 302 Found\n",
      "Location: https://sourceforge.net/projects/wnmatrix/files/wn_matrix/wn_matrix_0.19.tar.gz/download [following]\n",
      "--2022-01-21 15:37:24--  https://sourceforge.net/projects/wnmatrix/files/wn_matrix/wn_matrix_0.19.tar.gz/download\n",
      "Reusing existing connection to sourceforge.net:443.\n",
      "HTTP request sent, awaiting response... 302 Found\n",
      "Location: https://downloads.sourceforge.net/project/wnmatrix/wn_matrix/wn_matrix_0.19.tar.gz?ts=gAAAAABh6xmF866zK0P52vlXzv_D7jQXz2UI6-S03DROt7Qd8aWHgZsQuEG00a2_xjg6Ue_CXstnb7vpMENXVAApBGLCGZ3x8A%3D%3D&use_mirror=versaweb&r= [following]\n",
      "--2022-01-21 15:37:25--  https://downloads.sourceforge.net/project/wnmatrix/wn_matrix/wn_matrix_0.19.tar.gz?ts=gAAAAABh6xmF866zK0P52vlXzv_D7jQXz2UI6-S03DROt7Qd8aWHgZsQuEG00a2_xjg6Ue_CXstnb7vpMENXVAApBGLCGZ3x8A%3D%3D&use_mirror=versaweb&r=\n",
      "Resolving downloads.sourceforge.net (downloads.sourceforge.net)... 204.68.111.105\n",
      "Connecting to downloads.sourceforge.net (downloads.sourceforge.net)|204.68.111.105|:443... connected.\n",
      "HTTP request sent, awaiting response... 302 Found\n",
      "Location: https://versaweb.dl.sourceforge.net/project/wnmatrix/wn_matrix/wn_matrix_0.19.tar.gz [following]\n",
      "--2022-01-21 15:37:25--  https://versaweb.dl.sourceforge.net/project/wnmatrix/wn_matrix/wn_matrix_0.19.tar.gz\n",
      "Resolving versaweb.dl.sourceforge.net (versaweb.dl.sourceforge.net)... 162.251.232.173\n",
      "Connecting to versaweb.dl.sourceforge.net (versaweb.dl.sourceforge.net)|162.251.232.173|:443... connected.\n",
      "HTTP request sent, awaiting response... 200 OK\n",
      "Length: 192459 (188K) [application/x-gzip]\n",
      "Saving to: ‘../wn_user/build/vendor/wn_matrix.tar.gz’\n",
      "\n",
      "     0K .......... .......... .......... .......... .......... 26%  568K 0s\n",
      "    50K .......... .......... .......... .......... .......... 53% 1.42M 0s\n",
      "   100K .......... .......... .......... .......... .......... 79% 1.21M 0s\n",
      "   150K .......... .......... .......... .......              100% 1.17M=0.2s\n",
      "\n",
      "2022-01-21 15:37:26 (967 KB/s) - ‘../wn_user/build/vendor/wn_matrix.tar.gz’ saved [192459/192459]\n",
      "\n",
      "clang: error: unsupported option '-fopenmp'\n",
      "make: *** [../wn_user/build/obj/WnMatrix.o] Error 1\n",
      "clang: error: unsupported option '-fopenmp'\n",
      "make: *** [../wn_user/build/obj/WnMatrix.o] Error 1\n",
      "URL transformed to HTTPS due to an HSTS policy\n",
      "--2022-01-21 15:37:36--  https://sourceforge.net/projects//wnmatrix/files/wn_matrix/wn_matrix_0.19.tar.gz\n",
      "Resolving sourceforge.net (sourceforge.net)... 204.68.111.105\n",
      "Connecting to sourceforge.net (sourceforge.net)|204.68.111.105|:443... connected.\n",
      "HTTP request sent, awaiting response... 301 Moved Permanently\n",
      "Location: https://sourceforge.net/projects/wnmatrix/files/wn_matrix/wn_matrix_0.19.tar.gz/ [following]\n",
      "--2022-01-21 15:37:36--  https://sourceforge.net/projects/wnmatrix/files/wn_matrix/wn_matrix_0.19.tar.gz/\n",
      "Reusing existing connection to sourceforge.net:443.\n",
      "HTTP request sent, awaiting response... 302 Found\n",
      "Location: https://sourceforge.net/projects/wnmatrix/files/wn_matrix/wn_matrix_0.19.tar.gz/download [following]\n",
      "--2022-01-21 15:37:37--  https://sourceforge.net/projects/wnmatrix/files/wn_matrix/wn_matrix_0.19.tar.gz/download\n",
      "Reusing existing connection to sourceforge.net:443.\n",
      "HTTP request sent, awaiting response... 302 Found\n",
      "Location: https://downloads.sourceforge.net/project/wnmatrix/wn_matrix/wn_matrix_0.19.tar.gz?ts=gAAAAABh6xmRWHznegzcWbTCIdhQmiQgRpox5Eq9FtSV_F4mB2ohW9jgU37rjWY_gRZYtITccbLKExmJ7NFoYDUUZhdjUtuEzQ%3D%3D&use_mirror=versaweb&r= [following]\n",
      "--2022-01-21 15:37:37--  https://downloads.sourceforge.net/project/wnmatrix/wn_matrix/wn_matrix_0.19.tar.gz?ts=gAAAAABh6xmRWHznegzcWbTCIdhQmiQgRpox5Eq9FtSV_F4mB2ohW9jgU37rjWY_gRZYtITccbLKExmJ7NFoYDUUZhdjUtuEzQ%3D%3D&use_mirror=versaweb&r=\n",
      "Resolving downloads.sourceforge.net (downloads.sourceforge.net)... 204.68.111.105\n",
      "Connecting to downloads.sourceforge.net (downloads.sourceforge.net)|204.68.111.105|:443... connected.\n",
      "HTTP request sent, awaiting response... 302 Found\n",
      "Location: https://versaweb.dl.sourceforge.net/project/wnmatrix/wn_matrix/wn_matrix_0.19.tar.gz [following]\n",
      "--2022-01-21 15:37:37--  https://versaweb.dl.sourceforge.net/project/wnmatrix/wn_matrix/wn_matrix_0.19.tar.gz\n",
      "Resolving versaweb.dl.sourceforge.net (versaweb.dl.sourceforge.net)... 162.251.232.173\n",
      "Connecting to versaweb.dl.sourceforge.net (versaweb.dl.sourceforge.net)|162.251.232.173|:443... connected.\n",
      "HTTP request sent, awaiting response... 200 OK\n",
      "Length: 192459 (188K) [application/x-gzip]\n",
      "Saving to: ‘../wn_user/build/vendor/wn_matrix.tar.gz’\n",
      "\n",
      "     0K .......... .......... .......... .......... .......... 26%  579K 0s\n",
      "    50K .......... .......... .......... .......... .......... 53% 1.27M 0s\n",
      "   100K .......... .......... .......... .......... .......... 79% 1.34M 0s\n",
      "   150K .......... .......... .......... .......              100%  843K=0.2s\n",
      "\n",
      "2022-01-21 15:37:38 (912 KB/s) - ‘../wn_user/build/vendor/wn_matrix.tar.gz’ saved [192459/192459]\n",
      "\n",
      "clang: error: unsupported option '-fopenmp'\n",
      "make: *** [../wn_user/build/obj/WnMatrix.o] Error 1\n"
     ]
    }
   ],
   "source": [
    "%%bash\n",
    "git clone https://bitbucket.org/mbradle/wn_user\n",
    "git clone https://bitbucket.org/mbradle/single_zone\n",
    "cd single_zone\n",
    "./project_make\n",
    "make data"
   ]
  },
  {
   "cell_type": "code",
   "execution_count": 2,
   "metadata": {},
   "outputs": [
    {
     "name": "stderr",
     "output_type": "stream",
     "text": [
      "bash: line 2: ./single_zone_network: No such file or directory\n"
     ]
    },
    {
     "ename": "CalledProcessError",
     "evalue": "Command 'b'cd single_zone\\n./single_zone_network --nuc_xpath \"[z <= 30]\" --output_xml out.xml\\n'' returned non-zero exit status 127.",
     "output_type": "error",
     "traceback": [
      "\u001b[0;31m---------------------------------------------------------------------------\u001b[0m",
      "\u001b[0;31mCalledProcessError\u001b[0m                        Traceback (most recent call last)",
      "\u001b[0;32m<ipython-input-2-33bc79661075>\u001b[0m in \u001b[0;36m<module>\u001b[0;34m\u001b[0m\n\u001b[0;32m----> 1\u001b[0;31m \u001b[0mget_ipython\u001b[0m\u001b[0;34m(\u001b[0m\u001b[0;34m)\u001b[0m\u001b[0;34m.\u001b[0m\u001b[0mrun_cell_magic\u001b[0m\u001b[0;34m(\u001b[0m\u001b[0;34m'bash'\u001b[0m\u001b[0;34m,\u001b[0m \u001b[0;34m''\u001b[0m\u001b[0;34m,\u001b[0m \u001b[0;34m'cd single_zone\\n./single_zone_network --nuc_xpath \"[z <= 30]\" --output_xml out.xml\\n'\u001b[0m\u001b[0;34m)\u001b[0m\u001b[0;34m\u001b[0m\u001b[0;34m\u001b[0m\u001b[0m\n\u001b[0m",
      "\u001b[0;32m~/Library/Python/3.7/lib/python/site-packages/IPython/core/interactiveshell.py\u001b[0m in \u001b[0;36mrun_cell_magic\u001b[0;34m(self, magic_name, line, cell)\u001b[0m\n\u001b[1;32m   2321\u001b[0m             \u001b[0mmagic_arg_s\u001b[0m \u001b[0;34m=\u001b[0m \u001b[0mself\u001b[0m\u001b[0;34m.\u001b[0m\u001b[0mvar_expand\u001b[0m\u001b[0;34m(\u001b[0m\u001b[0mline\u001b[0m\u001b[0;34m,\u001b[0m \u001b[0mstack_depth\u001b[0m\u001b[0;34m)\u001b[0m\u001b[0;34m\u001b[0m\u001b[0;34m\u001b[0m\u001b[0m\n\u001b[1;32m   2322\u001b[0m             \u001b[0;32mwith\u001b[0m \u001b[0mself\u001b[0m\u001b[0;34m.\u001b[0m\u001b[0mbuiltin_trap\u001b[0m\u001b[0;34m:\u001b[0m\u001b[0;34m\u001b[0m\u001b[0;34m\u001b[0m\u001b[0m\n\u001b[0;32m-> 2323\u001b[0;31m                 \u001b[0mresult\u001b[0m \u001b[0;34m=\u001b[0m \u001b[0mfn\u001b[0m\u001b[0;34m(\u001b[0m\u001b[0mmagic_arg_s\u001b[0m\u001b[0;34m,\u001b[0m \u001b[0mcell\u001b[0m\u001b[0;34m)\u001b[0m\u001b[0;34m\u001b[0m\u001b[0;34m\u001b[0m\u001b[0m\n\u001b[0m\u001b[1;32m   2324\u001b[0m             \u001b[0;32mreturn\u001b[0m \u001b[0mresult\u001b[0m\u001b[0;34m\u001b[0m\u001b[0;34m\u001b[0m\u001b[0m\n\u001b[1;32m   2325\u001b[0m \u001b[0;34m\u001b[0m\u001b[0m\n",
      "\u001b[0;32m~/Library/Python/3.7/lib/python/site-packages/IPython/core/magics/script.py\u001b[0m in \u001b[0;36mnamed_script_magic\u001b[0;34m(line, cell)\u001b[0m\n\u001b[1;32m    140\u001b[0m             \u001b[0;32melse\u001b[0m\u001b[0;34m:\u001b[0m\u001b[0;34m\u001b[0m\u001b[0;34m\u001b[0m\u001b[0m\n\u001b[1;32m    141\u001b[0m                 \u001b[0mline\u001b[0m \u001b[0;34m=\u001b[0m \u001b[0mscript\u001b[0m\u001b[0;34m\u001b[0m\u001b[0;34m\u001b[0m\u001b[0m\n\u001b[0;32m--> 142\u001b[0;31m             \u001b[0;32mreturn\u001b[0m \u001b[0mself\u001b[0m\u001b[0;34m.\u001b[0m\u001b[0mshebang\u001b[0m\u001b[0;34m(\u001b[0m\u001b[0mline\u001b[0m\u001b[0;34m,\u001b[0m \u001b[0mcell\u001b[0m\u001b[0;34m)\u001b[0m\u001b[0;34m\u001b[0m\u001b[0;34m\u001b[0m\u001b[0m\n\u001b[0m\u001b[1;32m    143\u001b[0m \u001b[0;34m\u001b[0m\u001b[0m\n\u001b[1;32m    144\u001b[0m         \u001b[0;31m# write a basic docstring:\u001b[0m\u001b[0;34m\u001b[0m\u001b[0;34m\u001b[0m\u001b[0;34m\u001b[0m\u001b[0m\n",
      "\u001b[0;32m</Users/bradleymeyer/Library/Python/3.7/lib/python/site-packages/decorator.py:decorator-gen-109>\u001b[0m in \u001b[0;36mshebang\u001b[0;34m(self, line, cell)\u001b[0m\n",
      "\u001b[0;32m~/Library/Python/3.7/lib/python/site-packages/IPython/core/magic.py\u001b[0m in \u001b[0;36m<lambda>\u001b[0;34m(f, *a, **k)\u001b[0m\n\u001b[1;32m    185\u001b[0m     \u001b[0;31m# but it's overkill for just that one bit of state.\u001b[0m\u001b[0;34m\u001b[0m\u001b[0;34m\u001b[0m\u001b[0;34m\u001b[0m\u001b[0m\n\u001b[1;32m    186\u001b[0m     \u001b[0;32mdef\u001b[0m \u001b[0mmagic_deco\u001b[0m\u001b[0;34m(\u001b[0m\u001b[0marg\u001b[0m\u001b[0;34m)\u001b[0m\u001b[0;34m:\u001b[0m\u001b[0;34m\u001b[0m\u001b[0;34m\u001b[0m\u001b[0m\n\u001b[0;32m--> 187\u001b[0;31m         \u001b[0mcall\u001b[0m \u001b[0;34m=\u001b[0m \u001b[0;32mlambda\u001b[0m \u001b[0mf\u001b[0m\u001b[0;34m,\u001b[0m \u001b[0;34m*\u001b[0m\u001b[0ma\u001b[0m\u001b[0;34m,\u001b[0m \u001b[0;34m**\u001b[0m\u001b[0mk\u001b[0m\u001b[0;34m:\u001b[0m \u001b[0mf\u001b[0m\u001b[0;34m(\u001b[0m\u001b[0;34m*\u001b[0m\u001b[0ma\u001b[0m\u001b[0;34m,\u001b[0m \u001b[0;34m**\u001b[0m\u001b[0mk\u001b[0m\u001b[0;34m)\u001b[0m\u001b[0;34m\u001b[0m\u001b[0;34m\u001b[0m\u001b[0m\n\u001b[0m\u001b[1;32m    188\u001b[0m \u001b[0;34m\u001b[0m\u001b[0m\n\u001b[1;32m    189\u001b[0m         \u001b[0;32mif\u001b[0m \u001b[0mcallable\u001b[0m\u001b[0;34m(\u001b[0m\u001b[0marg\u001b[0m\u001b[0;34m)\u001b[0m\u001b[0;34m:\u001b[0m\u001b[0;34m\u001b[0m\u001b[0;34m\u001b[0m\u001b[0m\n",
      "\u001b[0;32m~/Library/Python/3.7/lib/python/site-packages/IPython/core/magics/script.py\u001b[0m in \u001b[0;36mshebang\u001b[0;34m(self, line, cell)\u001b[0m\n\u001b[1;32m    243\u001b[0m             \u001b[0msys\u001b[0m\u001b[0;34m.\u001b[0m\u001b[0mstderr\u001b[0m\u001b[0;34m.\u001b[0m\u001b[0mflush\u001b[0m\u001b[0;34m(\u001b[0m\u001b[0;34m)\u001b[0m\u001b[0;34m\u001b[0m\u001b[0;34m\u001b[0m\u001b[0m\n\u001b[1;32m    244\u001b[0m         \u001b[0;32mif\u001b[0m \u001b[0margs\u001b[0m\u001b[0;34m.\u001b[0m\u001b[0mraise_error\u001b[0m \u001b[0;32mand\u001b[0m \u001b[0mp\u001b[0m\u001b[0;34m.\u001b[0m\u001b[0mreturncode\u001b[0m\u001b[0;34m!=\u001b[0m\u001b[0;36m0\u001b[0m\u001b[0;34m:\u001b[0m\u001b[0;34m\u001b[0m\u001b[0;34m\u001b[0m\u001b[0m\n\u001b[0;32m--> 245\u001b[0;31m             \u001b[0;32mraise\u001b[0m \u001b[0mCalledProcessError\u001b[0m\u001b[0;34m(\u001b[0m\u001b[0mp\u001b[0m\u001b[0;34m.\u001b[0m\u001b[0mreturncode\u001b[0m\u001b[0;34m,\u001b[0m \u001b[0mcell\u001b[0m\u001b[0;34m,\u001b[0m \u001b[0moutput\u001b[0m\u001b[0;34m=\u001b[0m\u001b[0mout\u001b[0m\u001b[0;34m,\u001b[0m \u001b[0mstderr\u001b[0m\u001b[0;34m=\u001b[0m\u001b[0merr\u001b[0m\u001b[0;34m)\u001b[0m\u001b[0;34m\u001b[0m\u001b[0;34m\u001b[0m\u001b[0m\n\u001b[0m\u001b[1;32m    246\u001b[0m \u001b[0;34m\u001b[0m\u001b[0m\n\u001b[1;32m    247\u001b[0m     \u001b[0;32mdef\u001b[0m \u001b[0m_run_script\u001b[0m\u001b[0;34m(\u001b[0m\u001b[0mself\u001b[0m\u001b[0;34m,\u001b[0m \u001b[0mp\u001b[0m\u001b[0;34m,\u001b[0m \u001b[0mcell\u001b[0m\u001b[0;34m,\u001b[0m \u001b[0mto_close\u001b[0m\u001b[0;34m)\u001b[0m\u001b[0;34m:\u001b[0m\u001b[0;34m\u001b[0m\u001b[0;34m\u001b[0m\u001b[0m\n",
      "\u001b[0;31mCalledProcessError\u001b[0m: Command 'b'cd single_zone\\n./single_zone_network --nuc_xpath \"[z <= 30]\" --output_xml out.xml\\n'' returned non-zero exit status 127."
     ]
    }
   ],
   "source": [
    "%%bash\n",
    "cd single_zone\n",
    "./single_zone_network --nuc_xpath \"[z <= 30]\" --output_xml out.xml"
   ]
  },
  {
   "cell_type": "code",
   "execution_count": null,
   "metadata": {},
   "outputs": [],
   "source": []
  }
 ],
 "metadata": {
  "kernelspec": {
   "display_name": "Python 3",
   "language": "python",
   "name": "python3"
  },
  "language_info": {
   "codemirror_mode": {
    "name": "ipython",
    "version": 3
   },
   "file_extension": ".py",
   "mimetype": "text/x-python",
   "name": "python",
   "nbconvert_exporter": "python",
   "pygments_lexer": "ipython3",
   "version": "3.7.12"
  }
 },
 "nbformat": 4,
 "nbformat_minor": 4
}
